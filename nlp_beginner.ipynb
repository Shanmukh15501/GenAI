{
 "cells": [
  {
   "cell_type": "markdown",
   "metadata": {},
   "source": [
    "# NLP\n",
    "- NLP (Natural Language Processing) is a field of artificial intelligence that focuses on the interaction between computers and human (natural) languages. It involves enabling machines to understand, interpret, and generate human language.\n",
    "- Supervised learning in machine learning refers to the process where the model is trained on a labeled dataset, meaning the input data has corresponding target labels. The goal is for the model to learn a mapping from inputs to outputs, making predictions on new, unseen data. Supervised learning can be categorized into two main types:\n",
    "\n",
    "1. Classification\n",
    "- Description: The task is to assign a label or category to an input based on its features.\n",
    "- Examples:\n",
    "- Binary Classification: Classifying emails as \"spam\" or \"not spam.\"\n",
    "- Multi-Class Classification: Classifying images of animals as \"cat,\" \"dog,\" or \"bird.\"\n",
    "2. Regression\n",
    "- Description: The task is to predict a continuous numerical value from the input features.\n",
    "- Examples:\n",
    "- Predicting house prices based on features like size, location, and number of rooms.\n",
    "- Predicting temperature from historical weather data.\n",
    "- Both types require labeled data for training the model and can be used for a variety of applications, from image recognition to financial forecasting."
   ]
  },
  {
   "cell_type": "markdown",
   "metadata": {},
   "source": [
    "## Here's a short roadmap for learning NLP:\n",
    "\n",
    "- Foundations: Understand text preprocessing techniques like tokenization, stemming, and lemmatization.\n",
    "\n",
    "- Core Techniques: Learn text representations like Bag of Words (BoW) and Word Embeddings (e.g., Word2Vec).\n",
    "\n",
    "- Machine Learning: Explore supervised tasks (classification) and unsupervised tasks (clustering, topic modeling).\n",
    "\n",
    "- Deep Learning: Study advanced models like RNNs, LSTMs, and Transformers (e.g., BERT, GPT).\n",
    "\n",
    "- Advanced Topics: Work on Named Entity Recognition (NER), sentiment analysis, and text summarization.\n",
    "\n",
    "- Applications: Build projects like chatbots, machine translation, and question answering systems.\n",
    "\n",
    "- Tools: Use libraries like NLTK, spaCy, Hugging Face, and frameworks like TensorFlow, PyTorch.\n",
    "\n",
    "- This roadmap progresses from basics to advanced topics, equipping you for real-world NLP tasks.\n",
    "\n",
    "\n",
    "## Here are some short use cases of NLP:\n",
    "\n",
    "- Sentiment Analysis: Analyzing customer reviews or social media posts to determine whether the sentiment is positive, negative, or neutral.\n",
    "\n",
    "- Chatbots and Virtual Assistants: Automating customer support with AI-powered agents that understand and respond to user queries.\n",
    "\n",
    "- Named Entity Recognition (NER): Extracting specific entities like names, dates, and locations from news articles or documents.\n",
    "\n",
    "- Machine Translation: Translating text from one language to another, such as Google Translate.\n",
    "\n",
    "- Text Summarization: Automatically generating concise summaries from long articles or research papers.\n",
    "\n",
    "- Speech Recognition: Converting spoken language into text, used in voice assistants like Siri or Google Assistant.\n",
    "\n",
    "- Document Classification: Categorizing emails, articles, or legal documents into specific topics or labels (e.g., spam detection).\n",
    "\n",
    "- These use cases showcase how NLP can be applied across various industries for automation, efficiency, and improved user experience.\n",
    "\n",
    "## Foundations of NLP\n",
    "\n",
    "- Corpus: A large collection of text data used for training and analyzing language models. It could include books, articles, social media posts, etc.\n",
    "\n",
    "- Documents: Individual pieces of text within a corpus. Each document represents a single unit, like an article, a sentence, or a review.\n",
    "\n",
    "- Vocabulary: The set of all unique words in a corpus or document collection. It's used to represent the language used within the text.\n",
    "\n",
    "- Tokenization: The process of splitting text into smaller units, called tokens. Tokens can be words, phrases, or characters, depending on the task. For example, the sentence \"I love NLP\" might be tokenized into [\"I\", \"love\", \"NLP\"].\n",
    "\n"
   ]
  },
  {
   "cell_type": "code",
   "execution_count": null,
   "metadata": {
    "colab": {
     "base_uri": "https://localhost:8080/"
    },
    "id": "Fq89dmJXy4OG",
    "outputId": "cb615358-30cc-4006-cf97-d72e04eff021"
   },
   "outputs": [],
   "source": [
    "pip install nltk pandas gensim sklearn"
   ]
  },
  {
   "cell_type": "code",
   "execution_count": 2,
   "metadata": {
    "id": "RNu78y2Qz14-"
   },
   "outputs": [],
   "source": [
    "corpus = \"\"\"\n",
    "Hello i am Shanmukh Adari From Infosy's.\n",
    "I am from Visakhapatnam.\n",
    "\"\"\""
   ]
  },
  {
   "cell_type": "code",
   "execution_count": null,
   "metadata": {
    "colab": {
     "base_uri": "https://localhost:8080/"
    },
    "id": "Y3CWiGB_0KN5",
    "outputId": "dccb4036-99e7-4713-e06c-43e968362a7c"
   },
   "outputs": [],
   "source": [
    "import nltk\n",
    "nltk.download('punkt_tab') # Remove the extra space after punkt_tab\n",
    "nltk.download('wordnet')\n",
    "nltk.download('stopwords')\n",
    "nltk.download('averaged_perceptron_tagger')\n",
    "nltk.download('averaged_perceptron_tagger_eng')\n",
    "nltk.download('maxent_ne_chunker_tab')\n",
    "nltk.download('words')"
   ]
  },
  {
   "cell_type": "code",
   "execution_count": 49,
   "metadata": {
    "colab": {
     "base_uri": "https://localhost:8080/"
    },
    "id": "7fl5jzcU0XZ2",
    "outputId": "f8aebc6e-99c4-48c0-aa10-d41f2af47082"
   },
   "outputs": [
    {
     "data": {
      "text/plain": [
       "[\"\\nHello i am Shanmukh Adari From Infosy's.\", 'I am from Visakhapatnam.']"
      ]
     },
     "execution_count": 49,
     "metadata": {},
     "output_type": "execute_result"
    }
   ],
   "source": [
    "#Converting corpus to sentences\n",
    "\n",
    "from nltk.tokenize import sent_tokenize\n",
    "\n",
    "sent_tokenize(corpus)"
   ]
  },
  {
   "cell_type": "code",
   "execution_count": 50,
   "metadata": {
    "colab": {
     "base_uri": "https://localhost:8080/"
    },
    "id": "lAjX1hwU0tVI",
    "outputId": "cadaf2be-5fe3-443d-9474-89f1af7420cb"
   },
   "outputs": [
    {
     "data": {
      "text/plain": [
       "['Hello',\n",
       " 'i',\n",
       " 'am',\n",
       " 'Shanmukh',\n",
       " 'Adari',\n",
       " 'From',\n",
       " 'Infosy',\n",
       " \"'s\",\n",
       " '.',\n",
       " 'I',\n",
       " 'am',\n",
       " 'from',\n",
       " 'Visakhapatnam',\n",
       " '.']"
      ]
     },
     "execution_count": 50,
     "metadata": {},
     "output_type": "execute_result"
    }
   ],
   "source": [
    "#Converting corpus to words\n",
    "\n",
    "from nltk.tokenize import word_tokenize\n",
    "\n",
    "word_tokenize(corpus)\n"
   ]
  },
  {
   "cell_type": "code",
   "execution_count": 51,
   "metadata": {
    "colab": {
     "base_uri": "https://localhost:8080/"
    },
    "id": "vTG_Re6u2rJr",
    "outputId": "afeaa4f7-c2b2-4da8-df0d-d61b5e22e342"
   },
   "outputs": [
    {
     "data": {
      "text/plain": [
       "['Hello',\n",
       " 'i',\n",
       " 'am',\n",
       " 'Shanmukh',\n",
       " 'Adari',\n",
       " 'From',\n",
       " 'Infosy',\n",
       " \"'\",\n",
       " 's',\n",
       " '.',\n",
       " 'I',\n",
       " 'am',\n",
       " 'from',\n",
       " 'Visakhapatnam',\n",
       " '.']"
      ]
     },
     "execution_count": 51,
     "metadata": {},
     "output_type": "execute_result"
    }
   ],
   "source": [
    "#Converting corpus to words a new technique where punctuations are treated as separate word\n",
    "\n",
    "from nltk.tokenize import wordpunct_tokenize\n",
    "\n",
    "wordpunct_tokenize(corpus)"
   ]
  },
  {
   "cell_type": "code",
   "execution_count": 53,
   "metadata": {
    "colab": {
     "base_uri": "https://localhost:8080/"
    },
    "id": "Xrwr6vaT2YaQ",
    "outputId": "8b00f322-a467-4fac-dcae-736dad209961"
   },
   "outputs": [
    {
     "data": {
      "text/plain": [
       "['Hello',\n",
       " 'i',\n",
       " 'am',\n",
       " 'Shanmukh',\n",
       " 'Adari',\n",
       " 'From',\n",
       " \"Infosy's.\",\n",
       " 'I',\n",
       " 'am',\n",
       " 'from',\n",
       " 'Visakhapatnam',\n",
       " '.']"
      ]
     },
     "execution_count": 53,
     "metadata": {},
     "output_type": "execute_result"
    }
   ],
   "source": [
    "#Converting corpus to words a new technique where except last full stop remaining full stops will be considered as a word\n",
    "from nltk.tokenize import TreebankWordTokenizer\n",
    "\n",
    "tokenizer = TreebankWordTokenizer()\n",
    "tokenizer.tokenize(corpus)"
   ]
  },
  {
   "cell_type": "markdown",
   "metadata": {},
   "source": [
    "# Text Preprocessing Techniques in NLP:\n",
    "\n",
    "- Tokenization: Splitting text into smaller units (words, sentences).\n",
    "- Lowercasing: Converting all text to lowercase to maintain consistency.\n",
    "- Removing Stop Words: Eliminating common words (e.g., \"the,\" \"and\") that don't carry significant meaning.\n",
    "- Stemming: Reducing words to their root form (e.g., \"running\" → \"run\").\n",
    "- Lemmatization: Converting words to their dictionary form based on context (e.g., \"better\" → \"good\").\n",
    "- Removing Punctuation: Eliminating punctuation marks that don't add value to text analysis.\n",
    "- Removing Special Characters: Removing non-alphanumeric characters like numbers or symbols.\n",
    "- Whitespace Removal: Cleaning up unnecessary spaces in the text.\n",
    "These techniques help standardize and clean text for further NLP tasks like classification or sentiment analysis."
   ]
  },
  {
   "cell_type": "markdown",
   "metadata": {
    "id": "kzCJIf6BOCjT"
   },
   "source": [
    "# What is Stemming?\n",
    "- Stemming is a process in natural language processing (NLP) where words are reduced to their root or base form, removing suffixes (like \"ing\", \"ly\", \"es\") to get to the core of the word. The main idea behind stemming is to group together different forms of a word so that they are treated as a single word during analysis.\n",
    "\n",
    "For example:\n",
    "\n",
    "- \"running\" becomes \"run\"\n",
    "- \"happiness\" becomes \"happi\"\n",
    "- \"better\" becomes \"better\" (some words don't change due to the nature of stemming rules)\n",
    "\n",
    "- Simple Example of Stemming with NLTK\n",
    "To perform stemming, you can use the NLTK (Natural Language Toolkit) library, which provides several stemming algorithms.\n",
    "\n",
    "\n"
   ]
  },
  {
   "cell_type": "markdown",
   "metadata": {
    "id": "nLbwQFCVTvId"
   },
   "source": [
    "# PorterStemmer\n",
    "- The PorterStemmer is a popular stemming algorithm in NLTK that removes common suffixes from words to reduce them to their root form. It applies a series of rule-based transformations to handle English word endings like \"ing\", \"ly\", and \"es\".\n",
    "\n",
    "## Advantages of PorterStemmer:\n",
    "\n",
    "- Fast and Simple: Quickly processes large text datasets.\n",
    "- Efficient: Reduces word variations, improving text analysis.\n",
    "- Widely Used: Popular and well-tested in NLP.\n",
    "\n",
    "## Disadvantages of PorterStemmer:\n",
    "\n",
    "- Over-Stemming: May remove important word distinctions (e.g., \"happily\" becomes \"happi\").\n",
    "- Language-Specific: Works best for English, not other languages.\n",
    "- Inaccurate Roots: Sometimes produces meaningless stems."
   ]
  },
  {
   "cell_type": "code",
   "execution_count": 8,
   "metadata": {
    "colab": {
     "base_uri": "https://localhost:8080/"
    },
    "id": "Wm4DMr9ROpej",
    "outputId": "ccd61f4b-b0a0-4446-f547-7863b59ebcee"
   },
   "outputs": [
    {
     "name": "stdout",
     "output_type": "stream",
     "text": [
      "['fairli', 'sportingli', 'eat', 'eat', 'eaten', 'run', 'jump', 'easili', 'happi', 'better', 'studi', 'histori', 'studi', 'final', 'final']\n"
     ]
    }
   ],
   "source": [
    "# First, install and import necessary NLTK modules\n",
    "import nltk\n",
    "from nltk.stem import PorterStemmer\n",
    "\n",
    "# You might need to download necessary data before using NLTK (if not already downloaded)\n",
    "\n",
    "# Create an instance of the Porter Stemmer\n",
    "ps = PorterStemmer()\n",
    "\n",
    "# Sample words to be stemmed\n",
    "words = [\"fairly\",\"sportingly\",\"eating\",\"eats\",\"eaten\",\"running\", \"jumps\", \"easily\", \"happiness\", \"better\", \"studying\",\"history\",\"studying\",\"finally\",\"finalized\"]\n",
    "\n",
    "# Apply stemming on each word\n",
    "stemmed_words = [ps.stem(word) for word in words]\n",
    "\n",
    "# Print the stemmed words\n",
    "print(stemmed_words)\n"
   ]
  },
  {
   "cell_type": "markdown",
   "metadata": {
    "id": "VyXZQy8EREt5"
   },
   "source": [
    "# RegexpStemmer in NLTK\n",
    "- RegexpStemmer is a class in the NLTK library that allows you to stem words based on regular expression patterns. Instead of using predefined stemming rules like the Porter Stemmer, RegexpStemmer uses custom patterns to match and remove suffixes from words.\n",
    "\n",
    "# How It Works:\n",
    "- You define regular expressions that specify suffixes to be removed from words.\n",
    "- It applies those patterns to words and reduces them accordingly.\n",
    "\n",
    "## Advantages of RegexpStemmer:\n",
    "- Customizable: You can define your own patterns for suffix removal.\n",
    "- Flexible: Works with any suffix pattern, making it adaptable to different languages or specific needs.\n",
    "- Fine-Grained Control: Offers more control over which suffixes to remove.\n",
    "\n",
    "## Disadvantages of RegexpStemmer:\n",
    "- Complexity: Requires manual pattern creation, which can be time-consuming.\n",
    "- Overfitting: Custom patterns may overfit to specific data, leading to errors in general cases.\n",
    "- Limited to Defined Patterns: It can only remove suffixes defined by the user’s patterns, potentially missing others."
   ]
  },
  {
   "cell_type": "code",
   "execution_count": 9,
   "metadata": {
    "id": "n6d5-IhSRFCQ"
   },
   "outputs": [],
   "source": [
    "from nltk.stem import RegexpStemmer"
   ]
  },
  {
   "cell_type": "code",
   "execution_count": 10,
   "metadata": {
    "colab": {
     "base_uri": "https://localhost:8080/"
    },
    "id": "7M-TmYheRR3Q",
    "outputId": "1a8e789a-1d53-4602-8c97-07f205372dfd"
   },
   "outputs": [
    {
     "name": "stdout",
     "output_type": "stream",
     "text": [
      "['runn', 'jumps', 'easi', 'happiness']\n"
     ]
    }
   ],
   "source": [
    "import nltk\n",
    "from nltk.stem import RegexpStemmer\n",
    "\n",
    "# Create a RegexpStemmer with custom patterns\n",
    "stemmer = RegexpStemmer(r'(ing|es|ly)$',min=4)\n",
    "\n",
    "# List of words to be stemmed\n",
    "words = [\"running\", \"jumps\", \"easily\", \"happiness\"]\n",
    "\n",
    "# Apply stemming\n",
    "stemmed_words = [stemmer.stem(word) for word in words]\n",
    "\n",
    "# Print the result\n",
    "print(stemmed_words)\n"
   ]
  },
  {
   "cell_type": "markdown",
   "metadata": {
    "id": "cQdZ_3g3TOqC"
   },
   "source": [
    "# Snowball Stemmer in NLTK\n",
    "- The Snowball Stemmer is an advanced stemming algorithm available in NLTK that supports multiple languages. It is also known as the \"porter2 stemmer\", and it works similarly to the Porter Stemmer but with more aggressive rules. - It is designed to provide more accurate and consistent results across different languages.\n",
    "\n",
    "## Key Features:\n",
    "- Multiple Languages: It supports stemming for a variety of languages, such as English, French, Spanish, German, etc.\n",
    "- More Aggressive: It often performs more aggressive stemming compared to other algorithms like Porter.\n",
    "\n",
    "## Advantages of Snowball Stemmer:\n",
    "- Supports Multiple Languages: Works with several languages, offering broader utility.\n",
    "- Improved Stemming: More accurate and refined compared to the basic Porter Stemmer.\n",
    "- Consistent: Provides reliable results across different text datasets.\n",
    "\n",
    "## Disadvantages of Snowball Stemmer:\n",
    "\n",
    "- Aggressive Stemming: May over-simplify words, leading to loss of meaning.\n",
    "- Not Always Suitable: Its rules may not be ideal for all types of text or languages.\n",
    "- Complex for Fine-Tuning: Customization of the rules can be difficult for specific needs.\n",
    "\n",
    "\n"
   ]
  },
  {
   "cell_type": "code",
   "execution_count": 11,
   "metadata": {
    "colab": {
     "base_uri": "https://localhost:8080/"
    },
    "id": "c6Dq5gYJTZ6f",
    "outputId": "585f825d-ac42-4d2d-dab7-012eaea5e8c0"
   },
   "outputs": [
    {
     "name": "stdout",
     "output_type": "stream",
     "text": [
      "['run', 'happi', 'jump', 'better', 'studi', 'fair', 'sport']\n"
     ]
    }
   ],
   "source": [
    "import nltk\n",
    "from nltk.stem import SnowballStemmer\n",
    "\n",
    "# Initialize Snowball Stemmer for English\n",
    "stemmer = SnowballStemmer(\"english\")\n",
    "\n",
    "# List of words to stem\n",
    "words = [\"running\", \"happiness\", \"jumps\", \"better\", \"studying\",\"fairly\",\"sportingly\"]\n",
    "\n",
    "# Apply stemming\n",
    "stemmed_words = [stemmer.stem(word) for word in words]\n",
    "\n",
    "# Print the result\n",
    "print(stemmed_words)\n"
   ]
  },
  {
   "cell_type": "raw",
   "metadata": {
    "id": "FMd7Y_8_kc9G"
   },
   "source": [
    "## So for use-cases like chat bots we need to use lematization which gives good gramatical representation because above methods are giving you the output but its not 100% accurate,Lematizer is also like stemming which takes only the root word this gives a meaningful word"
   ]
  },
  {
   "cell_type": "markdown",
   "metadata": {
    "id": "PkYfSl-blM8x"
   },
   "source": [
    "## Wordnet Lemmatizer\n",
    "\n",
    "- The WordNet Lemmatizer in NLTK is a tool used for lemmatization, which reduces words to their base or dictionary form (lemmas). Unlike stemming, which cuts off prefixes or suffixes, lemmatization considers the word's meaning and context.\n",
    "\n",
    "- How it works: It uses WordNet, a large lexical database of English, to find the correct lemma of a word.\n",
    "- Example: The WordNet Lemmatizer will reduce \"better\" to \"good\" and \"running\" to \"run\".\n",
    "- It provides more accurate and meaningful word reductions compared to stemming methods.\n"
   ]
  },
  {
   "cell_type": "code",
   "execution_count": 12,
   "metadata": {
    "colab": {
     "base_uri": "https://localhost:8080/"
    },
    "id": "-nQ2BGAilXgK",
    "outputId": "b3c35c2b-1241-470a-c5d0-9b0794abdbbc"
   },
   "outputs": [
    {
     "name": "stdout",
     "output_type": "stream",
     "text": [
      "word----------------------> running\n",
      "running\n",
      "run\n",
      "running\n",
      "running\n",
      "word----------------------> happiness\n",
      "happiness\n",
      "happiness\n",
      "happiness\n",
      "happiness\n",
      "word----------------------> jumps\n",
      "jump\n",
      "jump\n",
      "jumps\n",
      "jumps\n",
      "word----------------------> better\n",
      "better\n",
      "better\n",
      "good\n",
      "well\n",
      "word----------------------> studying\n",
      "studying\n",
      "study\n",
      "studying\n",
      "studying\n",
      "word----------------------> fairly\n",
      "fairly\n",
      "fairly\n",
      "fairly\n",
      "fairly\n",
      "word----------------------> sportingly\n",
      "sportingly\n",
      "sportingly\n",
      "sportingly\n",
      "sportingly\n"
     ]
    }
   ],
   "source": [
    "## Q&A,chatbots,text summarization\n",
    "from nltk.stem import WordNetLemmatizer\n",
    "\n",
    "lemmatizer=WordNetLemmatizer()\n",
    "\n",
    "'''\n",
    "POS- Noun-n\n",
    "verb-v\n",
    "adjective-a\n",
    "adverb-r\n",
    "'''\n",
    "words = [\"running\", \"happiness\", \"jumps\", \"better\", \"studying\",\"fairly\",\"sportingly\"]\n",
    "for word in words:\n",
    "  print(\"word---------------------->\",word)\n",
    "  print(lemmatizer.lemmatize(word,pos='n'))\n",
    "  print(lemmatizer.lemmatize(word,pos='v'))\n",
    "  print(lemmatizer.lemmatize(word,pos='a'))\n",
    "  print(lemmatizer.lemmatize(word,pos='r'))\n"
   ]
  },
  {
   "cell_type": "code",
   "execution_count": 13,
   "metadata": {
    "id": "XiGwC_TNoiuY"
   },
   "outputs": [],
   "source": [
    "from nltk.stem import PorterStemmer\n",
    "from nltk.corpus  import stopwords"
   ]
  },
  {
   "cell_type": "markdown",
   "metadata": {},
   "source": [
    "## Stopwords\n",
    "- In NLTK, stopwords are common words that are usually removed from text during natural language processing (NLP) tasks because they don't carry much useful meaning by themselves. These words are considered \"stop words\" because they are frequently used in the language but don’t add significant information when analyzing or processing text.\n",
    "\n",
    "## Examples of Stopwords:\n",
    "- English: \"the\", \"is\", \"in\", \"and\", \"to\", \"for\", \"a\"\n",
    "- Other Languages: \"de\", \"la\", \"et\" (French), \"der\", \"die\", \"und\" (German)\n",
    "\n",
    "## Why remove stopwords?\n",
    "- In tasks like text classification, sentiment analysis, or document clustering, removing stopwords helps to focus on the more meaningful words in the text. For instance, the word \"is\" doesn't provide much information about the content, but words like \"machine\" or \"learning\" are more important for understanding the topic."
   ]
  },
  {
   "cell_type": "code",
   "execution_count": 63,
   "metadata": {},
   "outputs": [],
   "source": [
    "sentence = \"Hi i am shanmukh from Infosys\".split()"
   ]
  },
  {
   "cell_type": "code",
   "execution_count": 66,
   "metadata": {},
   "outputs": [],
   "source": [
    "final_list_of_words=[word for word in sentence if word not in set(stopwords.words('english'))]\n"
   ]
  },
  {
   "cell_type": "code",
   "execution_count": 67,
   "metadata": {},
   "outputs": [
    {
     "data": {
      "text/plain": [
       "['Hi', 'shanmukh', 'Infosys']"
      ]
     },
     "execution_count": 67,
     "metadata": {},
     "output_type": "execute_result"
    }
   ],
   "source": [
    "final_list_of_words"
   ]
  },
  {
   "cell_type": "code",
   "execution_count": 68,
   "metadata": {},
   "outputs": [],
   "source": [
    "#Lets see all  preprocessing techniques and their outputs in one place"
   ]
  },
  {
   "cell_type": "code",
   "execution_count": 69,
   "metadata": {
    "id": "0UWhglJCqWzj"
   },
   "outputs": [],
   "source": [
    "## Speech Of DR APJ Abdul Kalam\n",
    "paragraph = \"\"\"I have three visions for India. In 3000 years of our history, people from all over\n",
    "               the world have come and invaded us, captured our lands, conquered our minds.\n",
    "               From Alexander onwards, the Greeks, the Turks, the Moguls, the Portuguese, the British,\n",
    "               the French, the Dutch, all of them came and looted us, took over what was ours.\n",
    "               Yet we have not done this to any other nation. We have not conquered anyone.\n",
    "               We have not grabbed their land, their culture,\n",
    "               their history and tried to enforce our way of life on them.\n",
    "               Why? Because we respect the freedom of others.That is why my\n",
    "               first vision is that of freedom. I believe that India got its first vision of\n",
    "               this in 1857, when we started the War of Independence. It is this freedom that\n",
    "               we must protect and nurture and build on. If we are not free, no one will respect us.\n",
    "               My second vision for India’s development. For fifty years we have been a developing nation.\n",
    "               It is time we see ourselves as a developed nation. We are among the top 5 nations of the world\n",
    "               in terms of GDP. We have a 10 percent growth rate in most areas. Our poverty levels are falling.\n",
    "               Our achievements are being globally recognised today. Yet we lack the self-confidence to\n",
    "               see ourselves as a developed nation, self-reliant and self-assured. Isn’t this incorrect?\n",
    "               I have a third vision. India must stand up to the world. Because I believe that unless India\n",
    "               stands up to the world, no one will respect us. Only strength respects strength. We must be\n",
    "               strong not only as a military power but also as an economic power. Both must go hand-in-hand.\n",
    "               My good fortune was to have worked with three great minds. Dr. Vikram Sarabhai of the Dept. of\n",
    "               space, Professor Satish Dhawan, who succeeded him and Dr. Brahm Prakash, father of nuclear material.\n",
    "               I was lucky to have worked with all three of them closely and consider this the great opportunity of my life.\n",
    "               I see four milestones in my career\"\"\""
   ]
  },
  {
   "cell_type": "code",
   "execution_count": 70,
   "metadata": {
    "colab": {
     "base_uri": "https://localhost:8080/"
    },
    "id": "pZclxpzHqWwp",
    "outputId": "ecd6ebce-e441-41b0-fee0-3f88b1294111"
   },
   "outputs": [
    {
     "name": "stdout",
     "output_type": "stream",
     "text": [
      "porter_sentences\n",
      " ['i three vision india .', 'in 3000 year histori , peopl world come invad us , captur land , conquer mind .', 'from alexand onward , greek , turk , mogul , portugues , british , french , dutch , came loot us , took .', 'yet done nation .', 'we conquer anyon .', 'we grab land , cultur , histori tri enforc way life .', 'whi ?', 'becaus respect freedom others.that first vision freedom .', 'i believ india got first vision 1857 , start war independ .', 'it freedom must protect nurtur build .', 'if free , one respect us .', 'my second vision india ’ develop .', 'for fifti year develop nation .', 'it time see develop nation .', 'we among top 5 nation world term gdp .', 'we 10 percent growth rate area .', 'our poverti level fall .', 'our achiev global recognis today .', 'yet lack self-confid see develop nation , self-reli self-assur .', 'isn ’ incorrect ?', 'i third vision .', 'india must stand world .', 'becaus i believ unless india stand world , one respect us .', 'onli strength respect strength .', 'we must strong militari power also econom power .', 'both must go hand-in-hand .', 'my good fortun work three great mind .', 'dr. vikram sarabhai dept .', 'space , professor satish dhawan , succeed dr. brahm prakash , father nuclear materi .', 'i lucki work three close consid great opportun life .', 'i see four mileston career']\n",
      "----------------------------------\n",
      "\n",
      "snowball_sentences\n",
      " ['i three vision india .', 'in 3000 year histori , peopl world come invad us , captur land , conquer mind .', 'from alexand onward , greek , turk , mogul , portugues , british , french , dutch , came loot us , took .', 'yet done nation .', 'we conquer anyon .', 'we grab land , cultur , histori tri enforc way life .', 'whi ?', 'becaus respect freedom others.that first vision freedom .', 'i believ india got first vision 1857 , start war independ .', 'it freedom must protect nurtur build .', 'if free , one respect us .', 'my second vision india ’ develop .', 'for fifti year develop nation .', 'it time see develop nation .', 'we among top 5 nation world term gdp .', 'we 10 percent growth rate area .', 'our poverti level fall .', 'our achiev global recognis today .', 'yet lack self-confid see develop nation , self-reli self-assur .', 'isn ’ incorrect ?', 'i third vision .', 'india must stand world .', 'becaus i believ unless india stand world , one respect us .', 'onli strength respect strength .', 'we must strong militari power also econom power .', 'both must go hand-in-hand .', 'my good fortun work three great mind .', 'dr. vikram sarabhai dept .', 'space , professor satish dhawan , succeed dr. brahm prakash , father nuclear materi .', 'i lucki work three close consid great opportun life .', 'i see four mileston career']\n",
      "----------------------------------\n",
      "\n",
      "lemmatier_sentences\n",
      " ['I three vision India .', 'In 3000 year history , people world come invaded u , captured land , conquered mind .', 'From Alexander onwards , Greeks , Turks , Moguls , Portuguese , British , French , Dutch , came looted u , took .', 'Yet done nation .', 'We conquered anyone .', 'We grabbed land , culture , history tried enforce way life .', 'Why ?', 'Because respect freedom others.That first vision freedom .', 'I believe India got first vision 1857 , started War Independence .', 'It freedom must protect nurture build .', 'If free , one respect u .', 'My second vision India ’ development .', 'For fifty year developing nation .', 'It time see developed nation .', 'We among top 5 nation world term GDP .', 'We 10 percent growth rate area .', 'Our poverty level falling .', 'Our achievement globally recognised today .', 'Yet lack self-confidence see developed nation , self-reliant self-assured .', 'Isn ’ incorrect ?', 'I third vision .', 'India must stand world .', 'Because I believe unless India stand world , one respect u .', 'Only strength respect strength .', 'We must strong military power also economic power .', 'Both must go hand-in-hand .', 'My good fortune worked three great mind .', 'Dr. Vikram Sarabhai Dept .', 'space , Professor Satish Dhawan , succeeded Dr. Brahm Prakash , father nuclear material .', 'I lucky worked three closely consider great opportunity life .', 'I see four milestone career']\n",
      "----------------------------------\n",
      "\n"
     ]
    }
   ],
   "source": [
    "## We will find the Pos Tag\n",
    "#paragraph to sentence\n",
    "sentences=nltk.sent_tokenize(paragraph)\n",
    "\n",
    "\n",
    "\n",
    "porter_sentences=sentences.copy()\n",
    "snowball_sentences=sentences.copy()\n",
    "lemmatier_sentences=sentences.copy()\n",
    "\n",
    "for i in range(len(sentences)):\n",
    "    #sentence to words\n",
    "    words=nltk.word_tokenize(sentences[i])\n",
    "    ss = SnowballStemmer(\"english\")\n",
    "    ps = PorterStemmer()\n",
    "    wnl=WordNetLemmatizer()\n",
    "    porter_words=[ps.stem(word) for word in words if word not in set(stopwords.words('english'))]\n",
    "    snow_ball_words=[ss.stem(word) for word in words if word not in set(stopwords.words('english'))]\n",
    "    lemmatizer_words=[wnl.lemmatize(word) for word in words if word not in set(stopwords.words('english'))]\n",
    "    porter_sentences[i]=' '.join(porter_words)\n",
    "    snowball_sentences[i]=' '.join(snow_ball_words)\n",
    "    lemmatier_sentences[i]=' '.join(lemmatizer_words)\n",
    "\n",
    "\n",
    "\n",
    "print(\"porter_sentences\\n\",porter_sentences)\n",
    "print(\"----------------------------------\\n\")\n",
    "print(\"snowball_sentences\\n\",snowball_sentences)\n",
    "print(\"----------------------------------\\n\")\n",
    "print(\"lemmatier_sentences\\n\",lemmatier_sentences)\n",
    "print(\"----------------------------------\\n\")\n",
    "\n"
   ]
  },
  {
   "cell_type": "markdown",
   "metadata": {},
   "source": [
    "#### Parts of Speech (POS) Tagging and Named Entity Recognition (NER) are both part of Information Extraction (IE) in NLP\n",
    "    - POS Tagging: Involves identifying the grammatical structure of sentences by labeling each word with its respective part of speech (noun, verb, adjective, etc.).\n",
    "\n",
    "#### Named Entity Recognition (NER): Involves identifying and classifying named entities (such as people, organizations, locations, dates, etc.) in text.\n",
    "    \n",
    "    - Both tasks help in understanding and extracting structured information from unstructured text, making them essential for various NLP applications."
   ]
  },
  {
   "cell_type": "markdown",
   "metadata": {
    "id": "e6LK24uOCJu-"
   },
   "source": [
    "#### Parts of Speech (POS) Tagging\n",
    "\n",
    "#### Parts of Speech (POS) Tagging in NLP is the process of identifying and labeling the grammatical category of each word in a sentence. Common POS tags include:\n",
    "\n",
    "- Noun (NN): Represents a person, place, or thing (e.g., \"dog\").\n",
    "- Verb (VB): Represents an action or state (e.g., \"run\").\n",
    "- Adjective (JJ): Describes a noun (e.g., \"happy\").\n",
    "- Adverb (RB): Describes a verb, adjective, or another adverb (e.g., \"quickly\").\n",
    "- POS tagging helps in understanding the sentence structure and is essential for tasks like parsing, machine translation, and named entity recognition.\n",
    "\n",
    "#### Parts Of Speech Tags\n",
    "\n",
    "- CC coordinating conjunction\n",
    "- CD cardinal digit\n",
    "- DT determiner\n",
    "- EX existential there (like: “there is” … think of it like “there exists”)\n",
    "- FW foreign word\n",
    "- IN preposition/subordinating conjunction\n",
    "- JJ adjective – ‘big’\n",
    "- JJR adjective, comparative – ‘bigger’\n",
    "- JJS adjective, superlative – ‘biggest’\n",
    "- LS list marker 1)\n",
    "- MD modal – could, will\n",
    "- NN noun, singular ‘- desk’\n",
    "- NNS noun plural – ‘desks’\n",
    "- NNP proper noun, singular – ‘Harrison’\n",
    "- NNPS proper noun, plural – ‘Americans’\n",
    "- PDT predeterminer – ‘all the kids’\n",
    "- POS possessive ending parent’s\n",
    "- PRP personal pronoun –  I, he, she\n",
    "- PRP possessive pronoun – my, his, hers\n",
    "- RB adverb – very, silently,\n",
    "- RBR adverb, comparative – better\n",
    "- RBS adverb, superlative – best\n",
    "- RP particle – give up\n",
    "- TO – to go ‘to’ the store.\n",
    "- UH interjection – errrrrrrrm\n",
    "- VB verb, base form – take\n",
    "- VBD verb, past tense – took\n",
    "- VBG verb, gerund/present participle – taking\n",
    "- VBN verb, past participle – taken\n",
    "- VBP verb, sing. present, non-3d – take\n",
    "- VBZ verb, 3rd person sing. present – takes\n",
    "- WDT wh-determiner – which\n",
    "- WP wh-pronoun – who, what\n",
    "- WP possessive wh-pronoun, eg- whose\n",
    "- WRB wh-adverb, eg- where, when"
   ]
  },
  {
   "cell_type": "code",
   "execution_count": 73,
   "metadata": {
    "colab": {
     "base_uri": "https://localhost:8080/"
    },
    "id": "p1qmV6wCqWtt",
    "outputId": "2557a9f7-0145-4a73-c361-e93c7448f3a9"
   },
   "outputs": [
    {
     "name": "stdout",
     "output_type": "stream",
     "text": [
      "[('I', 'PRP'), ('three', 'CD'), ('visions', 'NNS'), ('India', 'NNP'), ('.', '.')]\n",
      "[('In', 'IN'), ('3000', 'CD'), ('years', 'NNS'), ('history', 'NN'), (',', ','), ('people', 'NNS'), ('world', 'NN'), ('come', 'VBP'), ('invaded', 'VBN'), ('us', 'PRP'), (',', ','), ('captured', 'VBD'), ('lands', 'NNS'), (',', ','), ('conquered', 'VBD'), ('minds', 'NNS'), ('.', '.')]\n",
      "[('From', 'IN'), ('Alexander', 'NNP'), ('onwards', 'NNS'), (',', ','), ('Greeks', 'NNP'), (',', ','), ('Turks', 'NNP'), (',', ','), ('Moguls', 'NNP'), (',', ','), ('Portuguese', 'NNP'), (',', ','), ('British', 'NNP'), (',', ','), ('French', 'NNP'), (',', ','), ('Dutch', 'NNP'), (',', ','), ('came', 'VBD'), ('looted', 'JJ'), ('us', 'PRP'), (',', ','), ('took', 'VBD'), ('.', '.')]\n",
      "[('Yet', 'RB'), ('done', 'VBN'), ('nation', 'NN'), ('.', '.')]\n",
      "[('We', 'PRP'), ('conquered', 'VBD'), ('anyone', 'NN'), ('.', '.')]\n",
      "[('We', 'PRP'), ('grabbed', 'VBD'), ('land', 'NN'), (',', ','), ('culture', 'NN'), (',', ','), ('history', 'NN'), ('tried', 'VBD'), ('enforce', 'JJ'), ('way', 'NN'), ('life', 'NN'), ('.', '.')]\n",
      "[('Why', 'WRB'), ('?', '.')]\n",
      "[('Because', 'IN'), ('respect', 'NN'), ('freedom', 'NN'), ('others.That', 'IN'), ('first', 'JJ'), ('vision', 'NN'), ('freedom', 'NN'), ('.', '.')]\n",
      "[('I', 'PRP'), ('believe', 'VBP'), ('India', 'NNP'), ('got', 'VBD'), ('first', 'JJ'), ('vision', 'NN'), ('1857', 'CD'), (',', ','), ('started', 'VBD'), ('War', 'NNP'), ('Independence', 'NNP'), ('.', '.')]\n",
      "[('It', 'PRP'), ('freedom', 'NN'), ('must', 'MD'), ('protect', 'VB'), ('nurture', 'NN'), ('build', 'NN'), ('.', '.')]\n",
      "[('If', 'IN'), ('free', 'JJ'), (',', ','), ('one', 'CD'), ('respect', 'NN'), ('us', 'PRP'), ('.', '.')]\n",
      "[('My', 'PRP$'), ('second', 'JJ'), ('vision', 'NN'), ('India', 'NNP'), ('’', 'NNP'), ('development', 'NN'), ('.', '.')]\n",
      "[('For', 'IN'), ('fifty', 'JJ'), ('years', 'NNS'), ('developing', 'VBG'), ('nation', 'NN'), ('.', '.')]\n",
      "[('It', 'PRP'), ('time', 'NN'), ('see', 'VB'), ('developed', 'JJ'), ('nation', 'NN'), ('.', '.')]\n",
      "[('We', 'PRP'), ('among', 'IN'), ('top', 'JJ'), ('5', 'CD'), ('nations', 'NNS'), ('world', 'NN'), ('terms', 'NNS'), ('GDP', 'NNP'), ('.', '.')]\n",
      "[('We', 'PRP'), ('10', 'CD'), ('percent', 'JJ'), ('growth', 'NN'), ('rate', 'NN'), ('areas', 'NNS'), ('.', '.')]\n",
      "[('Our', 'PRP$'), ('poverty', 'NN'), ('levels', 'NNS'), ('falling', 'VBG'), ('.', '.')]\n",
      "[('Our', 'PRP$'), ('achievements', 'NNS'), ('globally', 'RB'), ('recognised', 'VBN'), ('today', 'NN'), ('.', '.')]\n",
      "[('Yet', 'RB'), ('lack', 'JJ'), ('self-confidence', 'NN'), ('see', 'NN'), ('developed', 'JJ'), ('nation', 'NN'), (',', ','), ('self-reliant', 'JJ'), ('self-assured', 'JJ'), ('.', '.')]\n",
      "[('Isn', 'NNP'), ('’', 'NNP'), ('incorrect', 'NN'), ('?', '.')]\n",
      "[('I', 'PRP'), ('third', 'JJ'), ('vision', 'NN'), ('.', '.')]\n",
      "[('India', 'NNP'), ('must', 'MD'), ('stand', 'VB'), ('world', 'NN'), ('.', '.')]\n",
      "[('Because', 'IN'), ('I', 'PRP'), ('believe', 'VBP'), ('unless', 'IN'), ('India', 'NNP'), ('stands', 'VBZ'), ('world', 'NN'), (',', ','), ('one', 'CD'), ('respect', 'NN'), ('us', 'PRP'), ('.', '.')]\n",
      "[('Only', 'RB'), ('strength', 'NN'), ('respects', 'NNS'), ('strength', 'NN'), ('.', '.')]\n",
      "[('We', 'PRP'), ('must', 'MD'), ('strong', 'JJ'), ('military', 'JJ'), ('power', 'NN'), ('also', 'RB'), ('economic', 'JJ'), ('power', 'NN'), ('.', '.')]\n",
      "[('Both', 'DT'), ('must', 'MD'), ('go', 'VB'), ('hand-in-hand', 'NN'), ('.', '.')]\n",
      "[('My', 'PRP$'), ('good', 'JJ'), ('fortune', 'NN'), ('worked', 'VBD'), ('three', 'CD'), ('great', 'JJ'), ('minds', 'NNS'), ('.', '.')]\n",
      "[('Dr.', 'NNP'), ('Vikram', 'NNP'), ('Sarabhai', 'NNP'), ('Dept', 'NNP'), ('.', '.')]\n",
      "[('space', 'NN'), (',', ','), ('Professor', 'NNP'), ('Satish', 'NNP'), ('Dhawan', 'NNP'), (',', ','), ('succeeded', 'VBD'), ('Dr.', 'NNP'), ('Brahm', 'NNP'), ('Prakash', 'NNP'), (',', ','), ('father', 'RB'), ('nuclear', 'JJ'), ('material', 'NN'), ('.', '.')]\n",
      "[('I', 'PRP'), ('lucky', 'VBP'), ('worked', 'VBD'), ('three', 'CD'), ('closely', 'RB'), ('consider', 'VBP'), ('great', 'JJ'), ('opportunity', 'NN'), ('life', 'NN'), ('.', '.')]\n",
      "[('I', 'PRP'), ('see', 'VBP'), ('four', 'CD'), ('milestones', 'NNS'), ('career', 'NN')]\n"
     ]
    }
   ],
   "source": [
    "for i in range(len(sentences)):\n",
    "    words=nltk.word_tokenize(sentences[i])\n",
    "    words=[word for word in words if word not in set(stopwords.words('english'))]\n",
    "    pos_tag=nltk.pos_tag(words)\n",
    "    print(pos_tag)"
   ]
  },
  {
   "cell_type": "markdown",
   "metadata": {
    "id": "dlMw7T1yEjr1"
   },
   "source": [
    "#### Named Entity Recognition\n",
    "- Named Entity Recognition (NER) is a crucial task in Natural Language Processing (NLP) that involves identifying and classifying entities in text into predefined categories. These entities can include names of people, organizations, locations, dates, monetary values, and more."
   ]
  },
  {
   "cell_type": "code",
   "execution_count": 72,
   "metadata": {
    "colab": {
     "base_uri": "https://localhost:8080/"
    },
    "id": "iXPTwvtXqWqs",
    "outputId": "2b60c059-1d99-4347-e95d-1b8e652d0161"
   },
   "outputs": [
    {
     "name": "stdout",
     "output_type": "stream",
     "text": [
      "(S\n",
      "  (PERSON Barack/NNP)\n",
      "  (PERSON Obama/NNP)\n",
      "  was/VBD\n",
      "  born/VBN\n",
      "  on/IN\n",
      "  August/NNP\n",
      "  4/CD\n",
      "  ,/,\n",
      "  1961/CD\n",
      "  ,/,\n",
      "  in/IN\n",
      "  (GPE Honolulu/NNP)\n",
      "  ,/,\n",
      "  (GPE Hawaii/NNP)\n",
      "  ./.)\n",
      "<bound method Tree.draw of Tree('S', [Tree('PERSON', [('Barack', 'NNP')]), Tree('PERSON', [('Obama', 'NNP')]), ('was', 'VBD'), ('born', 'VBN'), ('on', 'IN'), ('August', 'NNP'), ('4', 'CD'), (',', ','), ('1961', 'CD'), (',', ','), ('in', 'IN'), Tree('GPE', [('Honolulu', 'NNP')]), (',', ','), Tree('GPE', [('Hawaii', 'NNP')]), ('.', '.')])>\n"
     ]
    }
   ],
   "source": [
    "import nltk\n",
    "from nltk import word_tokenize, pos_tag, ne_chunk\n",
    "\n",
    "# Sample text\n",
    "text = \"Barack Obama was born on August 4, 1961, in Honolulu, Hawaii.\"\n",
    "\n",
    "# Tokenize and part-of-speech tag the words\n",
    "words = word_tokenize(text)\n",
    "tags = pos_tag(words)\n",
    "\n",
    "# Perform Named Entity Recognition\n",
    "ner_tree = ne_chunk(tags)\n",
    "\n",
    "# Print the NER result\n",
    "print(ner_tree)\n",
    "\n",
    "\n",
    "print(ner_tree.draw)\n"
   ]
  },
  {
   "cell_type": "markdown",
   "metadata": {
    "id": "UBFy_VJkEjGa"
   },
   "source": []
  },
  {
   "cell_type": "markdown",
   "metadata": {},
   "source": [
    "# TEXT-to-vector techniques in NLP:\n",
    "\n",
    "- One-Hot Encoding: Represents each word as a binary vector, where only the index of the word is \"1\" and all others are \"0\". It is simple but sparse and lacks semantic meaning.\n",
    "\n",
    "- Bag of Words (BoW): Represents text by counting the frequency of each word in the document, ignoring grammar and word order.\n",
    "\n",
    "- TF-IDF (Term Frequency-Inverse Document Frequency): Adjusts the frequency of words by considering their importance across all documents in a corpus, emphasizing rare but important words.\n",
    "\n",
    "- Word2Vec: Creates dense, continuous vectors that capture semantic relationships between words by learning from context using neural networks.\n",
    "    \n",
    "- Avg Word2Vec: A variation of Word2Vec where word vectors are averaged across all words in a document to represent the document as a single vector. It helps capture document-level semantics.\n"
   ]
  },
  {
   "cell_type": "markdown",
   "metadata": {},
   "source": [
    "#### One-Hot Encoding is a technique used to convert categorical data (like words) into binary vectors. Each word in the vocabulary is represented by a vector where the index corresponding to that word is set to \"1\" and all other positions are \"0\".\n",
    "\n",
    "##### Advantages:\n",
    "\n",
    "- Simplicity: Easy to understand and implement.\n",
    "\n",
    "- No Assumptions: Doesn’t make assumptions about word order or context.\n",
    "\n",
    "- Suitable for Small Datasets: Works well when the vocabulary is small.\n",
    "    \n",
    "##### Disadvantages:\n",
    "\n",
    "- High Dimensionality: For large vocabularies, the vectors become very large and sparse, leading to inefficient memory usage and   model leads to overfitting\n",
    "\n",
    "- Lack of Semantic Meaning: Words that are semantically similar (e.g., \"cat\" and \"dog\") are represented as entirely different vectors.\n",
    "\n",
    "- Scalability Issues: Becomes less effective for large datasets or large vocabularies.\n",
    "\n",
    "- Out of Vocab (This technique fails when a new word is added in test set )\n",
    "\n",
    "- No fixed size \n",
    "\n"
   ]
  },
  {
   "cell_type": "code",
   "execution_count": 158,
   "metadata": {},
   "outputs": [
    {
     "name": "stdout",
     "output_type": "stream",
     "text": [
      "\n",
      "Food is extremely good\n",
      "Food is extremely bad\n",
      "Pizza extremely good->0\n",
      "One Hot Encoded Representation:\n",
      " Train [[1. 0. 0. 0. 0.]\n",
      " [0. 0. 0. 1. 0.]\n",
      " [0. 0. 0. 0. 1.]\n",
      " [1. 0. 0. 0. 0.]\n",
      " [0. 0. 0. 1. 0.]\n",
      " [0. 0. 1. 0. 0.]\n",
      " [0. 1. 0. 0. 0.]\n",
      " [0. 0. 0. 1. 0.]\n",
      " [0. 0. 0. 0. 1.]]\n",
      "One Hot Encoded Representation:\n",
      " Test [[0. 1. 0. 0. 0.]\n",
      " [0. 0. 0. 0. 1.]]\n"
     ]
    }
   ],
   "source": [
    "from sklearn.preprocessing import OneHotEncoder\n",
    "import numpy as np\n",
    "from nltk.tokenize import word_tokenize\n",
    "from nltk.corpus import stopwords\n",
    "\n",
    "\n",
    "corpus = \"\"\"\n",
    "Food is extremely good\n",
    "Food is extremely bad\n",
    "Pizza extremely good\n",
    "\"\"\"\n",
    "\n",
    "# Tokenizing the corpus\n",
    "words = word_tokenize(corpus)\n",
    "\n",
    "# Removing stopwords\n",
    "training_words = [word for word in words if word.lower() not in set(stopwords.words('english'))]\n",
    "\n",
    "Vocabulary = encoder.categories_[0]\n",
    "\n",
    "for i in range(len(Vocabulary)):\n",
    "    print('{}->{}'.format(Vocabulary[i],i))\n",
    "\n",
    "# Reshape filtered words into a 2D array (required for OneHotEncoder)\n",
    "training_reshaped_array = np.array(training_words).reshape(-1, 1)\n",
    "\n",
    "# Initialize the OneHotEncoder\n",
    "encoder = OneHotEncoder(sparse_output=False)\n",
    "\n",
    "# Fit and transform the reshaped array\n",
    "one_hot_encoded_train_data = encoder.fit_transform(training_reshaped_array)\n",
    "\n",
    "print(\"One Hot Encoded Representation:\\n Train\", one_hot_encoded_train_data)\n",
    "\n",
    "test_data = ['Pizza','good']\n",
    "test_reshaped_array = np.array(test_data).reshape(-1, 1)\n",
    "one_hot_encoded_test_data = encoder.transform(test_reshaped_array)\n",
    "\n",
    "print(\"One Hot Encoded Representation:\\n Test\", one_hot_encoded_test_data)\n"
   ]
  },
  {
   "cell_type": "markdown",
   "metadata": {},
   "source": [
    "# Bag of Words (BoW) Definition:\n",
    "- Bag of Words is a text representation technique where a document or sentence is represented by a vector of word frequencies or counts. It ignores grammar, word order, and syntax, focusing only on the presence or frequency of words in the document.\n",
    "\n",
    "\n",
    "# Advantages:\n",
    "- Simplicity: Easy to understand and implement.\n",
    "- Efficiency: Works well for smaller datasets and can be computed quickly.\n",
    "- No Need for Complex Models: Suitable for simple tasks like text classification.\n",
    "\n",
    "# Disadvantages:\n",
    "- Ignores Word Order: Loses contextual meaning since it doesn't account for word sequence.\n",
    "- High Dimensionality: Can lead to large vectors, especially with a large vocabulary.\n",
    "- Sparsity: Vectors can become sparse, leading to inefficiency in storage and computation.\n",
    "- Out of Vocab (This technique fails when a new word is added in test set).\n",
    "- No Semantic meanings captured\n",
    "- The vector representation of (food is good) and (food is not good) where cosine similarity shows that they are close to each other which means they are having similar meaning but in realworld both are opposite to each other to over come this we use ngram method\n"
   ]
  },
  {
   "attachments": {
    "cosine.png": {
     "image/png": "[encoded data removed]"
    }
   },
   "cell_type": "markdown",
   "metadata": {},
   "source": [
    "###### In cosine similarity, if the angle between two vectors is small, it means that the vectors are similar. If the angle is large, the vectors are different.\n",
    "\n",
    "![cosine.png](attachment:cosine.png)\n",
    "\n"
   ]
  },
  {
   "cell_type": "code",
   "execution_count": 203,
   "metadata": {},
   "outputs": [
    {
     "name": "stdout",
     "output_type": "stream",
     "text": [
      "Sentences ['\\nFood is good.', 'Food is not good.', 'Pizza  good.']\n",
      "Vocabulary: {'food': 0, 'is': 2, 'good': 1, 'not': 3, 'pizza': 4}\n",
      "Bag of words Training Data (Dense):\n",
      " [[1 1 1 0 0]\n",
      " [1 1 1 1 0]\n",
      " [0 1 0 0 1]]\n"
     ]
    }
   ],
   "source": [
    "import nltk\n",
    "from nltk.tokenize import sent_tokenize\n",
    "\n",
    "\n",
    "\n",
    "# Sample data (corpus of sentences)\n",
    "corpus = \"\"\"\n",
    "Food is good.\n",
    "Food is not good.\n",
    "Pizza  good.\n",
    "\"\"\"\n",
    "\n",
    "# Tokenize the paragraph into sentences\n",
    "sentences = sent_tokenize(corpus)\n",
    "\n",
    "# Print the resulting list of sentences\n",
    "print('Sentences',sentences)\n",
    "\n",
    "# Initialize the vectorizer\n",
    "vectorizer = CountVectorizer(max_features=100, binary=True)\n",
    "\n",
    "# Fit the vectorizer and transform the training data\n",
    "vectorizer_train_data = vectorizer.fit_transform(sentences)\n",
    "\n",
    "# Print the vocabulary (mapping of words to indices)\n",
    "print(\"Vocabulary:\", vectorizer.vocabulary_)\n",
    "\n",
    "# Convert sparse matrix to dense and display the training and test data\n",
    "print(\"Bag of words Training Data (Dense):\\n\", vectorizer_train_data.toarray())\n"
   ]
  },
  {
   "cell_type": "code",
   "execution_count": 237,
   "metadata": {
    "colab": {
     "base_uri": "https://localhost:8080/",
     "height": 373
    },
    "id": "3G4ZNIIAqWWT",
    "outputId": "e119fea4-3601-4381-eb82-9f8ae836c264"
   },
   "outputs": [
    {
     "name": "stdout",
     "output_type": "stream",
     "text": [
      "corpus ['Food is good', 'Food is not good', 'Pizza good']\n",
      "Vocabulary: {'food': 0, 'is': 2, 'good': 1, 'not': 3, 'pizza': 4}\n",
      "(3, 5)\n",
      "[[1 1 1 0 0]\n",
      " [1 1 1 1 0]\n",
      " [0 1 0 0 1]]\n"
     ]
    },
    {
     "data": {
      "image/png": "[encoded data removed]",
      "text/plain": [
       "<Figure size 432x288 with 1 Axes>"
      ]
     },
     "metadata": {
      "needs_background": "light"
     },
     "output_type": "display_data"
    },
    {
     "name": "stdout",
     "output_type": "stream",
     "text": [
      "Angle between the vectors: 29.999999999999993 degrees\n"
     ]
    }
   ],
   "source": [
    "#Example-2\n",
    "\n",
    "from nltk.corpus import stopwords\n",
    "import pandas as pd\n",
    "\n",
    "messages = pd.read_csv(\"C:\\\\Users\\\\Adari Shanmukh\\\\Downloads\\\\shit\\\\spam.csv\",encoding='ISO-8859-1',sep=\",\",names=[\"label\",\"message\"])\n",
    "\n",
    "corpus = []\n",
    "import re\n",
    "for message in messages['message']:\n",
    "    review = re.sub('[^a-zA-Z]',' ',message)\n",
    "    reviews =  review.split()\n",
    "    review = \" \".join(reviews)\n",
    "    corpus.append(review)\n",
    "\n",
    "#https://scikit-learn.org/stable/modules/generated/sklearn.feature_extraction.text.CountVectorizer.html\n",
    "\n",
    "print(\"corpus\",corpus)\n",
    "from sklearn.feature_extraction.text import CountVectorizer\n",
    "vectorizer = CountVectorizer(max_features=100)\n",
    "X = vectorizer.fit_transform(corpus).toarray()\n",
    "print(\"Vocabulary:\", vectorizer.vocabulary_)\n",
    "\n",
    "print(X.shape)\n",
    "print(X)\n",
    "\n",
    "# importing the required libraries\n",
    "import matplotlib.pyplot as plt\n",
    "import numpy as np\n",
    "\n",
    "# define data values\n",
    "x1 = np.array([0,1,2,3,4])  # X-axis points\n",
    "y1 = X[0]  # Y-axis points\n",
    "\n",
    "x2=np.array([0,1,2,3,4])  # X-axis points\n",
    "y2 = X[1]  # Y-axis points\n",
    "\n",
    "plt.plot(x1, y1)  # Plot the chart\n",
    "plt.plot(x2, y2)  # Plot the chart\n",
    "\n",
    "plt.show()  # display\n",
    "\n",
    "\n",
    "\n",
    "import numpy as np\n",
    "\n",
    "\n",
    "# compute the dot product\n",
    "dot_product = np.dot(y1, y2)\n",
    "\n",
    "# compute the magnitudes of the vectors\n",
    "magnitude_y1 = np.linalg.norm(y1)\n",
    "magnitude_y2 = np.linalg.norm(y2)\n",
    "\n",
    "# compute the cosine of the angle\n",
    "cosine_angle = dot_product / (magnitude_y1 * magnitude_y2)\n",
    "\n",
    "# compute the angle in radians\n",
    "angle_radians = np.arccos(cosine_angle)\n",
    "\n",
    "# convert the angle to degrees\n",
    "angle_degrees = np.degrees(angle_radians)\n",
    "\n",
    "print(f\"Angle between the vectors: {angle_degrees} degrees\")\n",
    "\n",
    "\n",
    "\n"
   ]
  },
  {
   "cell_type": "markdown",
   "metadata": {},
   "source": [
    "######  One-Hot Encoding: \n",
    "\n",
    "- Represents individual words as binary vectors, where each word is mapped to a unique vector with one 1 (for that word) and 0s elsewhere.\n",
    "\n",
    "######  Bag of Words (BoW):\n",
    "\n",
    "- Represents sentences or documents by counting the frequency of each word in a sentence, ignoring word order.\n",
    "\n",
    "###### In short:\n",
    "\n",
    "- One-Hot Encoding = Word-level representation.\n",
    "- Bag of Words = Sentence-level representation using word counts."
   ]
  },
  {
   "cell_type": "markdown",
   "metadata": {
    "id": "HTiSkT_VHhZs"
   },
   "source": [
    "#### Understanding N-grams:\n",
    "\n",
    " - N-grams are contiguous sequences of ’n’ items, typically words in the context of NLP. These items can be characters, words, or even syllables, depending on the granularity desired. The value of ’n’ determines the order of the N-gram.\n",
    "\n",
    "Examples:\n",
    "- Unigrams (1-grams): Single words, e.g., “cat,” “dog.”\n",
    "- Bigrams (2-grams): Pairs of consecutive words, e.g., “natural language,” “deep learning.”\n",
    "- Trigrams (3-grams): Triplets of consecutive words, e.g., “machine learning model,” “data science approach.”\n",
    "- 4-grams, 5-grams, etc.: Sequences of four, five, or more consecutive words.\n"
   ]
  },
  {
   "attachments": {
    "ngram.png": {
     "image/png": "[encoded data removed]"
    }
   },
   "cell_type": "markdown",
   "metadata": {},
   "source": [
    "![ngram.png](attachment:ngram.png)"
   ]
  },
  {
   "cell_type": "code",
   "execution_count": 239,
   "metadata": {
    "id": "nGlKTCM7qWJZ"
   },
   "outputs": [
    {
     "name": "stdout",
     "output_type": "stream",
     "text": [
      "[[1 1 0 0]\n",
      " [1 0 1 1]]\n",
      "['food is' 'is good' 'is not' 'not good']\n",
      "{'food is': 0, 'is good': 1, 'is not': 2, 'not good': 3}\n",
      "[0 1 2 3] [1 1 0 0]\n",
      "[0 1 2 3] [1 0 1 1]\n"
     ]
    },
    {
     "data": {
      "image/png": "[encoded data removed]",
      "text/plain": [
       "<Figure size 432x288 with 1 Axes>"
      ]
     },
     "metadata": {
      "needs_background": "light"
     },
     "output_type": "display_data"
    },
    {
     "name": "stdout",
     "output_type": "stream",
     "text": [
      "Angle between the vectors: 65.90515744788931 degrees\n",
      "Since angle is more these 2 sentences are not similar\n"
     ]
    }
   ],
   "source": [
    "messages = \"\"\"\n",
    "Food is good\n",
    "Food is not good\n",
    "\"\"\"\n",
    "sentences = [\"food is good.\", \"food is not good.\"]\n",
    "\n",
    "vectorizer = CountVectorizer(ngram_range=(2, 2))\n",
    "\n",
    "bag_of_words = vectorizer.fit_transform(sentences)\n",
    "print(bag_of_words.toarray())\n",
    "print(vectorizer.get_feature_names_out())\n",
    "print(vectorizer.vocabulary_)\n",
    "\n",
    "\n",
    "# importing the required libraries\n",
    "import matplotlib.pyplot as plt\n",
    "import numpy as np\n",
    "\n",
    "# define data values\n",
    "x1 = np.arange(len(bag_of_words.toarray()[0]))\n",
    "y1 = bag_of_words.toarray()[0]  # Y-axis points\n",
    "\n",
    "x2 = np.arange(len(bag_of_words.toarray()[1]))\n",
    "y2 = bag_of_words.toarray()[1]  # Y-axis points\n",
    "\n",
    "print(x1,y1)\n",
    "print(x2,y2)\n",
    "\n",
    "plt.plot(x1, y1)  # Plot the chart\n",
    "\n",
    "plt.plot(x2, y2)  # Plot the chart\n",
    "\n",
    "plt.show()  # display\n",
    "\n",
    "import numpy as np\n",
    "\n",
    "# compute the dot product\n",
    "dot_product = np.dot(y1, y2)\n",
    "\n",
    "# compute the magnitudes of the vectors\n",
    "magnitude_y1 = np.linalg.norm(y1)\n",
    "magnitude_y2 = np.linalg.norm(y2)\n",
    "\n",
    "# compute the cosine of the angle\n",
    "cosine_angle = dot_product / (magnitude_y1 * magnitude_y2)\n",
    "\n",
    "# compute the angle in radians\n",
    "angle_radians = np.arccos(cosine_angle)\n",
    "\n",
    "# convert the angle to degrees\n",
    "angle_degrees = np.degrees(angle_radians)\n",
    "\n",
    "print(f\"Angle between the vectors: {angle_degrees} degrees\")\n",
    "print(\"Since angle is more these 2 sentences are not similar\")\n",
    "\n",
    "\n"
   ]
  },
  {
   "cell_type": "markdown",
   "metadata": {
    "id": "tNtUy9a6HhaV"
   },
   "source": [
    "# TF-IDF\n",
    "\n",
    "- TF-IDF stands for Term Frequency Inverse Document Frequency of records. It can be defined as the calculation of how relevant a word in a series or corpus is to a text. The meaning increases proportionally to the number of times in the text a word appears but is compensated by the word frequency in the corpus (data-set).\n",
    "\n",
    "- https://scikit-learn.org/stable/modules/generated/sklearn.feature_extraction.text.TfidfVectorizer.html\n",
    "\n",
    "- You see some decimal values ASSIGNED THAT TELLS THE WORD IMPORATANCE\n",
    "\n"
   ]
  },
  {
   "cell_type": "markdown",
   "metadata": {},
   "source": [
    "# Term Frequency (TF)\n",
    "\n",
    "- TF measures the frequency of a term within a document. It is calculated as the ratio of the number of times a term occurs in a document to the total number of terms in that document. The goal is to emphasize words that are frequent within a document.\n",
    "\n",
    "- tf(t,d) = count of t in d / number of words in d\n",
    "\n",
    "# Inverse Document Frequency (IDF)\n",
    "\n",
    "- IDF measures the rarity of a term across a collection of documents. It is calculated as the logarithm of the ratio of the total number of documents to the number of documents containing the term. The goal is to penalize words that are common across all documents.\n",
    "\n",
    "- t(t,d)=loge(number of documents in corpus/number of documents containing word)\n",
    "\n",
    "\n",
    "# Combining TF and IDF: TF-IDF\n",
    "- The TF-IDF score for a term in a document is obtained by multiplying its TF and IDF scores.\n",
    "\n",
    "- TF-IDF(t,d,D)=TF(t,d)×IDF(t,D)\n",
    "\n",
    "\n",
    "# Advantages of TF-IDF:\n",
    "\n",
    "- Highlights important terms by balancing frequency and rarity.\n",
    "- Reduces common word impact, focusing on unique terms.\n",
    "- Simple and efficient to compute.\n",
    "- Works well for sparse data.\n",
    "- Effective for information retrieval (e.g., search engines).\n",
    "\n",
    "# Disadvantages of TF-IDF:\n",
    "\n",
    "- High Dimensionality: For large vocabularies, the vectors become very large and sparse, leading to inefficient memory usage and   model leads to overfitting\n",
    "\n",
    "- Lack of Semantic Meaning: Words that are semantically similar (e.g., \"cat\" and \"dog\") are represented as entirely different vectors.\n",
    "\n",
    "- Scalability Issues: Becomes less effective for large datasets or large vocabularies.\n",
    "\n",
    "- Out of Vocab (This technique fails when a new word is added in test set )\n",
    "\n",
    "# TF-IDF is better than Bag of Words because:\n",
    "\n",
    "- Reduces Impact of Common Words: TF-IDF downweights frequent but unimportant words (e.g., \"the\", \"is\").\n",
    "- Captures Word Importance: It gives higher weight to rare, informative words, improving document distinction.\n",
    "- Better for Retrieval: TF-IDF improves relevance in tasks like search engines, highlighting key terms.\n",
    "- Considers Document Frequency: Unlike BoW, TF-IDF factors in how common or rare a word is across the entire corpus.\n",
    "\n"
   ]
  },
  {
   "cell_type": "code",
   "execution_count": 242,
   "metadata": {
    "id": "qQL8ZTp0HhaW"
   },
   "outputs": [],
   "source": [
    "from nltk.corpus import stopwords\n",
    "from nltk.stem import WordNetLemmatizer\n",
    "import pandas as pd\n",
    "\n",
    "wnl = WordNetLemmatizer()\n",
    "messages = pd.read_csv(\"C:\\\\Users\\\\Adari Shanmukh\\\\Downloads\\\\shit\\\\spam.csv\",encoding='ISO-8859-1',sep=\",\",names=[\"label\",\"message\"])\n",
    "\n",
    "corpus = []\n",
    "import re\n",
    "for message in messages['message']:\n",
    "    review = re.sub('[^a-zA-Z]',' ',message)\n",
    "    reviews =  review.split()\n",
    "    stemmed_words = [wnl.lemmatize(word) for word in reviews if word not in set(stopwords.words('english')) ]\n",
    "    review = \" \".join(stemmed_words)\n",
    "    corpus.append(review)\n"
   ]
  },
  {
   "cell_type": "code",
   "execution_count": 249,
   "metadata": {
    "id": "M0zYZ-X-HhaW"
   },
   "outputs": [
    {
     "name": "stdout",
     "output_type": "stream",
     "text": [
      "(3, 3)\n"
     ]
    }
   ],
   "source": [
    "from sklearn.feature_extraction.text import TfidfVectorizer\n",
    "vectorizer = TfidfVectorizer(max_features=100)\n",
    "X = vectorizer.fit_transform(corpus).toarray()\n",
    "print(X.shape)"
   ]
  },
  {
   "cell_type": "code",
   "execution_count": 250,
   "metadata": {
    "id": "RxdhlZmxHhaW"
   },
   "outputs": [
    {
     "data": {
      "text/plain": [
       "{'food': 0, 'good': 1, 'pizza': 2}"
      ]
     },
     "execution_count": 250,
     "metadata": {},
     "output_type": "execute_result"
    }
   ],
   "source": [
    "vectorizer.vocabulary_"
   ]
  },
  {
   "cell_type": "code",
   "execution_count": 251,
   "metadata": {
    "id": "RzNfIhqaHhaW"
   },
   "outputs": [
    {
     "name": "stdout",
     "output_type": "stream",
     "text": [
      "       food      good     pizza\n",
      "0  0.789807  0.613356  0.000000\n",
      "1  0.789807  0.613356  0.000000\n",
      "2  0.000000  0.508542  0.861037\n"
     ]
    }
   ],
   "source": [
    "# Display the TF-IDF matrix as a DataFrame\n",
    "tfidf_df = pd.DataFrame(X, columns=vectorizer.get_feature_names_out())\n",
    "print(tfidf_df)"
   ]
  },
  {
   "cell_type": "code",
   "execution_count": 252,
   "metadata": {
    "id": "95ocOhvQHhaX"
   },
   "outputs": [
    {
     "name": "stdout",
     "output_type": "stream",
     "text": [
      "(3, 2)\n"
     ]
    }
   ],
   "source": [
    "from sklearn.feature_extraction.text import TfidfVectorizer\n",
    "vectorizer = TfidfVectorizer(max_features=100,ngram_range=(2,2))\n",
    "X = vectorizer.fit_transform(corpus).toarray()\n",
    "print(X.shape)"
   ]
  },
  {
   "cell_type": "code",
   "execution_count": 255,
   "metadata": {
    "id": "bQE9h49pHhaX"
   },
   "outputs": [
    {
     "name": "stdout",
     "output_type": "stream",
     "text": [
      "   food good  pizza good\n",
      "0        1.0         0.0\n",
      "1        1.0         0.0\n",
      "2        0.0         1.0\n"
     ]
    }
   ],
   "source": [
    "X\n",
    "# Display the TF-IDF matrix as a DataFrame\n",
    "tfidf_df = pd.DataFrame(X, columns=vectorizer.get_feature_names_out())\n",
    "print(tfidf_df)"
   ]
  },
  {
   "cell_type": "code",
   "execution_count": 256,
   "metadata": {
    "id": "-N8Fj9ORHhaX"
   },
   "outputs": [
    {
     "data": {
      "text/plain": [
       "{'food good': 0, 'pizza good': 1}"
      ]
     },
     "execution_count": 256,
     "metadata": {},
     "output_type": "execute_result"
    }
   ],
   "source": [
    "vectorizer.vocabulary_"
   ]
  },
  {
   "cell_type": "markdown",
   "metadata": {
    "id": "AV-dK0kuHhaX"
   },
   "source": [
    "# Word Embeddings\n",
    "- Word Embeddings are a way of representing words as numbers (vectors) so that a computer can understand them better. Words that are similar in meaning are represented by similar numbers (vectors). This allows computers to understand relationships between words, like \"king\" is to \"queen\" as \"man\" is to \"woman.\"\n",
    "\n",
    "*For example:\n",
    "\n",
    "- The word \"cat\" might be represented by a list of numbers like [0.1, 0.3, 0.5, ...]\n",
    "- The word \"dog\" might have a similar list of numbers because they are related concepts.\n",
    "\n",
    "*Why is this useful?\n",
    "\n",
    "- It helps computers understand meaning, relationships, and context between words.\n",
    "- It can be used in many applications like translation, sentiment analysis, and search engines.\n",
    "- In short, word embeddings turn words into numbers in a way that captures their meaning!\n",
    "\n",
    "\n",
    "##### Here’s a simplified breakdown of the different types of word embedding methods:\n",
    "\n",
    "###### 1. Traditional Approaches\n",
    "    - 1.1 One-Hot Encoding: Each word is represented by a vector with one \"1\" and the rest as \"0\"s. It’s simple but doesn’t capture relationships between words.\n",
    "    - 1.2 Bag of Words (BoW): Represents text by counting how often each word appears. It ignores word order but gives a basic idea of word frequency.\n",
    "    - 1.3 TF-IDF (Term Frequency-Inverse Document Frequency): It weighs words based on how often they appear in a document versus in the entire corpus, helping highlight important words.\n",
    "\n",
    "###### 2. Neural Approaches\n",
    "\n",
    "    - 2.1 Word2Vec: A neural network model that learns word representations based on their context in the text.\n",
    "    - 2.2 Continuous Bag of Words (CBOW): A type of Word2Vec where the model predicts a target word based on its surrounding words (context).\n",
    "    - 2.3 Skip-Gram: Another type of Word2Vec, but here, the model predicts surrounding words based on a target word.\n",
    "\n",
    "###### 3. Pretrained Word Embeddings\n",
    "\n",
    "    - 3.1 GloVe: A model that creates word embeddings by looking at global word co-occurrence statistics across a large corpus.\n",
    "    - 3.2 FastText: Builds on Word2Vec but breaks down words into smaller subword units, capturing more detailed word meanings.\n",
    "    - 3.3 BERT (Bidirectional Encoder Representations from Transformers): A transformer-based model that generates context-dependent embeddings, meaning words can have different meanings depending on their sentence context."
   ]
  },
  {
   "cell_type": "markdown",
   "metadata": {
    "id": "Gb86dIhvHhaY"
   },
   "source": [
    "# WordtoVEC\n",
    "- Pre-trained vectors trained on a part of the Google News dataset (about 100 billion words). The model contains 300-dimensional vectors for 3 million words and phrases. The phrases were obtained using a simple data-driven approach described in 'Distributed Representations of Words and Phrases and their Compositionality'\n",
    "- https://huggingface.co/fse/word2vec-google-news-300\n",
    "- https://www.geeksforgeeks.org/python-word-embedding-using-word2vec/\n"
   ]
  },
  {
   "cell_type": "code",
   "execution_count": null,
   "metadata": {
    "id": "1Hy_JwWxHhaY"
   },
   "outputs": [],
   "source": [
    "from gensim.models import Word2Vec, KeyedVectors"
   ]
  },
  {
   "cell_type": "code",
   "execution_count": 22,
   "metadata": {},
   "outputs": [
    {
     "name": "stdout",
     "output_type": "stream",
     "text": [
      "[==================================================] 100.0% 1662.8/1662.8MB downloaded\n"
     ]
    }
   ],
   "source": [
    "import gensim.downloader as api\n",
    "\n",
    "wv = api.load('word2vec-google-news-300')\n",
    "\n"
   ]
  },
  {
   "cell_type": "code",
   "execution_count": 24,
   "metadata": {},
   "outputs": [],
   "source": [
    "vec_king = wv['king']"
   ]
  },
  {
   "cell_type": "code",
   "execution_count": 26,
   "metadata": {},
   "outputs": [
    {
     "data": {
      "text/plain": [
       "(300,)"
      ]
     },
     "execution_count": 26,
     "metadata": {},
     "output_type": "execute_result"
    }
   ],
   "source": [
    "vec_king.shape"
   ]
  },
  {
   "cell_type": "code",
   "execution_count": 28,
   "metadata": {},
   "outputs": [
    {
     "data": {
      "text/plain": [
       "[('cricketing', 0.8372225761413574),\n",
       " ('cricketers', 0.8165745735168457),\n",
       " ('Test_cricket', 0.8094819188117981),\n",
       " ('Twenty##_cricket', 0.8068488240242004),\n",
       " ('Twenty##', 0.7624265551567078),\n",
       " ('Cricket', 0.75413978099823),\n",
       " ('cricketer', 0.7372578382492065),\n",
       " ('twenty##', 0.7316356897354126),\n",
       " ('T##_cricket', 0.7304614186286926),\n",
       " ('West_Indies_cricket', 0.6987985968589783)]"
      ]
     },
     "execution_count": 28,
     "metadata": {},
     "output_type": "execute_result"
    }
   ],
   "source": [
    "wv.most_similar('cricket')"
   ]
  },
  {
   "cell_type": "code",
   "execution_count": 35,
   "metadata": {},
   "outputs": [
    {
     "data": {
      "text/plain": [
       "0.5354614"
      ]
     },
     "execution_count": 35,
     "metadata": {},
     "output_type": "execute_result"
    }
   ],
   "source": [
    "wv.similarity(\"happy\",\"sad\")"
   ]
  },
  {
   "cell_type": "code",
   "execution_count": 36,
   "metadata": {},
   "outputs": [
    {
     "data": {
      "text/plain": [
       "0.32684135"
      ]
     },
     "execution_count": 36,
     "metadata": {},
     "output_type": "execute_result"
    }
   ],
   "source": [
    "wv.similarity(\"happy\",\"bad\")"
   ]
  },
  {
   "cell_type": "code",
   "execution_count": 42,
   "metadata": {},
   "outputs": [
    {
     "data": {
      "text/plain": [
       "0.3364858"
      ]
     },
     "execution_count": 42,
     "metadata": {},
     "output_type": "execute_result"
    }
   ],
   "source": [
    "wv.similarity(\"happy\",\"smile\")"
   ]
  },
  {
   "cell_type": "code",
   "execution_count": 47,
   "metadata": {},
   "outputs": [],
   "source": [
    "vec = wv['king']-wv['man']+wv['woman']"
   ]
  },
  {
   "cell_type": "code",
   "execution_count": 48,
   "metadata": {},
   "outputs": [
    {
     "data": {
      "text/plain": [
       "[('king', 0.8449392318725586),\n",
       " ('queen', 0.7300517559051514),\n",
       " ('monarch', 0.645466148853302),\n",
       " ('princess', 0.6156251430511475),\n",
       " ('crown_prince', 0.5818676352500916),\n",
       " ('prince', 0.5777117609977722),\n",
       " ('kings', 0.5613663792610168),\n",
       " ('sultan', 0.5376775860786438),\n",
       " ('Queen_Consort', 0.5344247817993164),\n",
       " ('queens', 0.5289887189865112)]"
      ]
     },
     "execution_count": 48,
     "metadata": {},
     "output_type": "execute_result"
    }
   ],
   "source": [
    "wv.most_similar(vec)"
   ]
  },
  {
   "cell_type": "code",
   "execution_count": null,
   "metadata": {},
   "outputs": [],
   "source": []
  }
 ],
 "metadata": {
  "colab": {
   "provenance": []
  },
  "kernelspec": {
   "display_name": "Python 3 (ipykernel)",
   "language": "python",
   "name": "python3"
  },
  "language_info": {
   "codemirror_mode": {
    "name": "ipython",
    "version": 3
   },
   "file_extension": ".py",
   "mimetype": "text/x-python",
   "name": "python",
   "nbconvert_exporter": "python",
   "pygments_lexer": "ipython3",
   "version": "3.9.7"
  }
 },
 "nbformat": 4,
 "nbformat_minor": 1
}
