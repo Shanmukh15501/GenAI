{
 "cells": [
  {
   "cell_type": "markdown",
   "metadata": {},
   "source": [
    "- Groq is a company that develops high-performance hardware and software solutions for AI inference. Their core product, the LPU™   Inference Engine, is designed to accelerate AI tasks, offering significant speed improvements. It provides superior compute power, enabling faster processing of AI models. The platform is optimized for energy efficiency, reducing operational costs. Overall, Groq aims to enhance AI performance across various applications, including machine learning and deep learning workloads.\n",
    "- https://console.groq.com/playground"
   ]
  },
  {
   "cell_type": "code",
   "execution_count": 1,
   "metadata": {},
   "outputs": [],
   "source": [
    "import os\n",
    "from dotenv import load_dotenv\n",
    "import openai\n",
    "load_dotenv()\n",
    "\n",
    "openai.api_key=os.getenv('OPENAI_API_KEY')\n",
    "\n",
    "groq_api_key=os.getenv('GROQ_API_KEY')"
   ]
  },
  {
   "cell_type": "code",
   "execution_count": 2,
   "metadata": {},
   "outputs": [],
   "source": [
    "from langchain_openai import ChatOpenAI\n",
    "from langchain_groq import ChatGroq\n",
    "\n",
    "groq_model = ChatGroq(model=\"gemma2-9b-it\",groq_api_key=groq_api_key)\n",
    "\n",
    "openai_model = ChatOpenAI(model=\"gpt-4o\")\n"
   ]
  },
  {
   "cell_type": "code",
   "execution_count": 3,
   "metadata": {},
   "outputs": [
    {
     "name": "stdout",
     "output_type": "stream",
     "text": [
      "content='नमस्ते, आप कैसे हैं? (Namaste, aap kaise hain?) \\n' additional_kwargs={} response_metadata={'token_usage': {'completion_tokens': 22, 'prompt_tokens': 18, 'total_tokens': 40, 'completion_time': 0.04, 'prompt_time': 7.714e-05, 'queue_time': 0.022944167, 'total_time': 0.04007714}, 'model_name': 'gemma2-9b-it', 'system_fingerprint': 'fp_10c08bf97d', 'finish_reason': 'stop', 'logprobs': None} id='run-37629df0-21be-45b2-b0f6-8452d87f8f89-0' usage_metadata={'input_tokens': 18, 'output_tokens': 22, 'total_tokens': 40}\n",
      "\n",
      "\n",
      "\n",
      "content='नमस्ते, आप कैसे हैं?' additional_kwargs={'refusal': None} response_metadata={'token_usage': {'completion_tokens': 10, 'prompt_tokens': 20, 'total_tokens': 30, 'completion_tokens_details': {'accepted_prediction_tokens': 0, 'audio_tokens': 0, 'reasoning_tokens': 0, 'rejected_prediction_tokens': 0}, 'prompt_tokens_details': {'audio_tokens': 0, 'cached_tokens': 0}}, 'model_name': 'gpt-4o-2024-08-06', 'system_fingerprint': 'fp_4691090a87', 'finish_reason': 'stop', 'logprobs': None} id='run-c2f25390-7faa-448e-9452-cf4d5d0d33e4-0' usage_metadata={'input_tokens': 20, 'output_tokens': 10, 'total_tokens': 30, 'input_token_details': {'audio': 0, 'cache_read': 0}, 'output_token_details': {'audio': 0, 'reasoning': 0}}\n"
     ]
    }
   ],
   "source": [
    "from langchain_core.messages import SystemMessage,AIMessage,HumanMessage\n",
    "\n",
    "message = [\n",
    "        SystemMessage(\"Translate from English to Hindi\"),\n",
    "        HumanMessage(content=\"Hello how are you\")\n",
    "]\n",
    "\n",
    "response1 = groq_model.invoke(message)\n",
    "response2 = openai_model.invoke(message)\n",
    "\n",
    "print(response1)\n",
    "print(\"\\n\"*2)\n",
    "print(response2)\n"
   ]
  },
  {
   "cell_type": "code",
   "execution_count": 4,
   "metadata": {},
   "outputs": [
    {
     "data": {
      "text/plain": [
       "'नमस्ते, आप कैसे हैं? (Namaste, aap kaise hain?) \\n'"
      ]
     },
     "execution_count": 4,
     "metadata": {},
     "output_type": "execute_result"
    }
   ],
   "source": [
    "from langchain_core.output_parsers import StrOutputParser\n",
    "\n",
    "parser = StrOutputParser()\n",
    "\n",
    "parser.invoke(response1)"
   ]
  },
  {
   "cell_type": "code",
   "execution_count": 5,
   "metadata": {},
   "outputs": [],
   "source": [
    "#using LCEL we can chain the components"
   ]
  },
  {
   "cell_type": "code",
   "execution_count": 6,
   "metadata": {},
   "outputs": [
    {
     "name": "stdout",
     "output_type": "stream",
     "text": [
      "नमस्ते, आप कैसे हैं? \n",
      "(Namaste, aap kaise hain?) \n",
      "\n",
      "\n",
      "This is a common and polite way to say \"Hello, how are you?\" in Hindi.\n",
      "\n",
      "नमस्ते, आप कैसे हैं?\n"
     ]
    }
   ],
   "source": [
    "chain1= groq_model|parser\n",
    "\n",
    "print(chain1.invoke(message))\n",
    "\n",
    "chain2= openai_model|parser\n",
    "\n",
    "print(chain2.invoke(message))\n"
   ]
  },
  {
   "cell_type": "code",
   "execution_count": 7,
   "metadata": {},
   "outputs": [
    {
     "data": {
      "text/plain": [
       "\"नमस्ते, मैं शंमुख हूँ। \\n \\n (Namaste, main Shanmukhu hoon.) \\n\\n\\nLet me know if you'd like me to translate anything else!\\n\""
      ]
     },
     "execution_count": 7,
     "metadata": {},
     "output_type": "execute_result"
    }
   ],
   "source": [
    "#another efficient method is using prompt templates\n",
    "\n",
    "from langchain_core.prompts import ChatPromptTemplate\n",
    "\n",
    "generic_prompt = \"Translate into following {language}\"\n",
    "\n",
    "prompt = ChatPromptTemplate.from_messages([(\"system\",generic_prompt),(\"user\",\"{text}\")])\n",
    "\n",
    "prompt.invoke({\"language\":\"Hindi\",\"text\":\"Hello this is shanmukh\"})\n",
    "\n",
    "chain3 = prompt | groq_model | parser\n",
    "\n",
    "chain3.invoke({\"language\":\"Hindi\",\"text\":\"Hello this is shanmukh\"})\n",
    "\n"
   ]
  },
  {
   "cell_type": "code",
   "execution_count": 8,
   "metadata": {},
   "outputs": [
    {
     "name": "stdout",
     "output_type": "stream",
     "text": [
      "Overwriting lama_rag.py\n"
     ]
    }
   ],
   "source": [
    "%%writefile lama_rag.py\n",
    "\n",
    "import streamlit as st \n",
    "import os\n",
    "from langchain_groq import ChatGroq\n",
    "from langchain_openai import OpenAIEmbeddings\n",
    "from langchain.text_splitter import RecursiveCharacterTextSplitter\n",
    "from langchain.chains.combine_documents import create_stuff_documents_chain\n",
    "from langchain_community.vectorstores import FAISS  \n",
    "from langchain_community.document_loaders import PyPDFDirectoryLoader\n",
    "from langchain_core.prompts import ChatPromptTemplate\n",
    "from langchain.chains import create_retrieval_chain\n",
    "from dotenv import load_dotenv\n",
    "from langchain_openai import ChatOpenAI\n",
    "from langchain_groq import ChatGroq\n",
    "from langchain_huggingface.embeddings import *\n",
    "\n",
    "\n",
    "load_dotenv()\n",
    "\n",
    "groq_api_key=os.getenv('GROQ_API_KEY','xxxxxxxxxxxxxxxxxxxxxxxxxxxxxxxxxxxxxxxx')\n",
    "\n",
    "groq_model = ChatGroq(model_name=\"llama-3.2-1b-preview\",groq_api_key=groq_api_key)\n",
    "\n",
    "generic_prompt = \"\"\"\n",
    "                    Answer the following questions based on given context only.\n",
    "                    Please provide most accurate response based on question.\n",
    "                    <context>\n",
    "                    {context}\n",
    "                    </context>\n",
    "                \"\"\"\n",
    "\n",
    "prompt = ChatPromptTemplate.from_messages([(\"system\",generic_prompt),(\"user\",\"{input}\")])\n",
    "\n",
    "\n",
    "def create_vector_embeddings_ollama():\n",
    "    if \"vectors\" not in st.session_state:\n",
    "        st.session_state.embeddings = OpenAIEmbeddings()\n",
    "        st.session_state.loader = PyPDFDirectoryLoader(\"research\") #data ingestion step\n",
    "        st.session_state.docs  = st.session_state.loader.load() #documents loading\n",
    "        st.session_state.text_splitter =  RecursiveCharacterTextSplitter(chunk_size=1000,chunk_overlap=200)\n",
    "        st.session_state.final_documents = st.session_state.text_splitter.split_documents(st.session_state.docs)\n",
    "        st.session_state.vectors = FAISS.from_documents(st.session_state.final_documents,st.session_state.embeddings)\n",
    "        \n",
    "user_prompt = st.text_input(\"Enter the query from the documents\")\n",
    "if st.button(\"Document Embedding\"):\n",
    "    create_vector_embeddings_ollama()\n",
    "    st.write(\"Vector db is ready\")\n",
    "\n",
    "if user_prompt:\n",
    "    document_chain = create_stuff_documents_chain(groq_model,prompt)\n",
    "    retriver  =  st.session_state.vectors.as_retriever()\n",
    "    retriver_chain = create_retrieval_chain(retriver,document_chain)\n",
    "    response = retriver_chain.invoke({'input':user_prompt})\n",
    "    st.write(response['answer'])\n",
    "    \n",
    "\n",
    "\n"
   ]
  },
  {
   "cell_type": "code",
   "execution_count": 9,
   "metadata": {},
   "outputs": [
    {
     "name": "stdout",
     "output_type": "stream",
     "text": [
      "process <Popen: returncode: None args: ['streamlit', 'run', 'lama_rag.py']>\n"
     ]
    }
   ],
   "source": [
    "import subprocess\n",
    "\n",
    "process = subprocess.Popen([\"streamlit\",\"run\",\"lama_rag.py\"])\n",
    "\n",
    "print(\"process\",process)"
   ]
  },
  {
   "cell_type": "code",
   "execution_count": 10,
   "metadata": {},
   "outputs": [],
   "source": [
    "process.terminate()"
   ]
  },
  {
   "cell_type": "code",
   "execution_count": 11,
   "metadata": {},
   "outputs": [],
   "source": [
    "#Conversation_rag using Message History lama3"
   ]
  },
  {
   "cell_type": "code",
   "execution_count": 66,
   "metadata": {},
   "outputs": [
    {
     "name": "stdout",
     "output_type": "stream",
     "text": [
      "Overwriting lama_conversational_rag.py\n"
     ]
    }
   ],
   "source": [
    "\n",
    "%%writefile lama_conversational_rag.py\n",
    "\n",
    "import streamlit as st \n",
    "import os\n",
    "from langchain_groq import ChatGroq\n",
    "from langchain_openai import OpenAIEmbeddings\n",
    "from langchain.text_splitter import RecursiveCharacterTextSplitter\n",
    "from datetime import datetime \n",
    "import pandas as pd\n",
    "from langchain_community.document_loaders import PyPDFLoader\n",
    "import random\n",
    "from langchain_chroma import Chroma\n",
    "from langchain_huggingface.embeddings import HuggingFaceEmbeddings\n",
    "from io import StringIO\n",
    "from langchain.chains.combine_documents import create_stuff_documents_chain\n",
    "from langchain.chains import create_retrieval_chain\n",
    "from langchain_core.runnables.history import RunnableWithMessageHistory\n",
    "from langchain.memory import ChatMessageHistory\n",
    "import shutil\n",
    "import chromadb\n",
    "\n",
    "\n",
    "#If there is no chat_history, then the input is just passed directly to the retriever. If there is chat_history, then the prompt and LLM will be used to generate a search query. That search query is then passed to the retriever.\n",
    "#create_history_aware_retriever\n",
    "#A history-aware retriever in LangChain is essential to provide contextually relevant responses by considering previous interactions. It ensures continuity in multi-turn conversations, allowing the model to retrieve more accurate information based on both the current and past queries. This enhances personalization and efficiency in ongoing dialogues.\n",
    "\n",
    "from langchain.chains import create_history_aware_retriever\n",
    "from langchain_core.prompts import MessagesPlaceholder\n",
    "from langchain_core.prompts import ChatPromptTemplate\n",
    "\n",
    "from dotenv import load_dotenv\n",
    "collection_name = \"your_collection_name\"\n",
    "\n",
    "\n",
    "\n",
    "load_dotenv()\n",
    "\n",
    "groq_api_key=os.getenv('GROQ_API_KEY','xxxxxxxxxxxxxxxxxxxxxxxxxxxxxxxxxxxxxxxx')\n",
    "\n",
    "groq_model = ChatGroq(model_name=\"llama-3.1-8b-instant\",groq_api_key=groq_api_key)\n",
    "\n",
    "import random\n",
    "import streamlit as st\n",
    "from langchain_community.document_loaders import PyPDFLoader  # Correct import from langchain\n",
    "\n",
    "from langchain.embeddings import HuggingFaceEmbeddings\n",
    "from langchain.text_splitter import RecursiveCharacterTextSplitter\n",
    "from langchain.vectorstores import Chroma\n",
    "\n",
    "delete_session = st.button(label=\"Delete Session\", type=\"secondary\", icon=None, disabled=False, use_container_width=False)\n",
    "\n",
    "\n",
    "if delete_session:\n",
    "    st.session_state.clear()\n",
    "    st.write(\"Session cleared\")\n",
    "\n",
    "    \n",
    "def read_documents():\n",
    "    uploaded_files=[]\n",
    "    uploaded_files = st.file_uploader(label=\"Please upload PDF files\", type=['pdf'], accept_multiple_files=True)\n",
    "    if uploaded_files and 'read' not in st.session_state:\n",
    "        documents = []    \n",
    "        # Loop through uploaded files and extract pages\n",
    "        persist_directory = r'D:\\PROJECT_PRACTISE_DIRS\\GenAI\\Chroma'\n",
    "        temporary_file = persist_directory + \"\\\\\" + \"tempo\" + str(random.randint(1,1000)) + \".pdf\"\n",
    "        file_path = temporary_file\n",
    "        for uploaded_file in uploaded_files:\n",
    "            # Load the PDF directly from memory\n",
    "            bytes_data = uploaded_file.getvalue()\n",
    "            \n",
    "            with open(temporary_file,'wb') as file:\n",
    "                file.write(bytes_data)\n",
    "                loader = PyPDFLoader(file_path)\n",
    "            \n",
    "            documents.extend(loader.load())\n",
    "\n",
    "        # Prepare embeddings and text splitting\n",
    "        st.session_state.embeddings = HuggingFaceEmbeddings(model_name=\"all-MiniLM-L6-v2\")\n",
    "        st.session_state.text_splitter = RecursiveCharacterTextSplitter(chunk_size=1000, chunk_overlap=200)\n",
    "        \n",
    "        # Split documents into chunks\n",
    "        st.session_state.final_documents = st.session_state.text_splitter.split_documents(documents)\n",
    "        \n",
    "        # Display for debugging purposes (optional)\n",
    "        \n",
    "        # Create vector store and retriever\n",
    "        persist_directory='D:\\\\PROJECT_PRACTISE_DIRS\\\\GenAI\\\\Chroma'\n",
    "        collection_name = \"Chroma\"\n",
    "\n",
    "        st.session_state.vectors = Chroma.from_documents(st.session_state.final_documents, st.session_state.embeddings,collection_name=collection_name,persist_directory=persist_directory)\n",
    "        st.session_state.retreiver = st.session_state.vectors.as_retriever()\n",
    "        st.session_state.read = True\n",
    "        \n",
    "        return st.session_state.read  # Indicating that documents have been read\n",
    "\n",
    "    elif uploaded_files and st.session_state.read:\n",
    "        st.write(\"Already Embedded no need to read\")\n",
    "        return st.session_state.read\n",
    "    else:\n",
    "        return False \n",
    "\n",
    "def get_session_history(session_id: str):\n",
    "    if 'store' not in st.session_state:\n",
    "        st.session_state.store = {}\n",
    "    if session_id not in st.session_state.store:\n",
    "        st.session_state.store[session_id]=ChatMessageHistory()\n",
    "            \n",
    "    return st.session_state.store[session_id]\n",
    "        \n",
    "\n",
    "result = read_documents()\n",
    "if result:\n",
    "    import random\n",
    "    session_history=get_session_history('abc7')\n",
    "    \n",
    "    user_input = st.text_input(\"Your question:\")\n",
    "    session_history.add_user_message(user_input)\n",
    "    if user_input:\n",
    "        contextualize_q_system_prompt = (\n",
    "            \"Given a chat history and the latest user question \"\n",
    "            \"which might reference context in the chat history, \"\n",
    "            \"formulate a standalone question which can be understood \"\n",
    "            \"without the chat history. Do NOT answer the question, \"\n",
    "            \"just reformulate it if needed and otherwise return it as is.\"\n",
    "        )\n",
    "\n",
    "\n",
    "        contextualize_q_prompt = ChatPromptTemplate.from_messages(\n",
    "            [\n",
    "                (\"system\", contextualize_q_system_prompt),\n",
    "                MessagesPlaceholder(variable_name=\"chat_history\"),\n",
    "                (\"human\", \"{input}\"),\n",
    "            ]\n",
    "        )\n",
    "        #Create a chain that takes conversation history and returns documents.\n",
    "        #https://api.python.langchain.com/en/latest/chains/langchain.chains.history_aware_retriever.create_history_aware_retriever.html\n",
    "\n",
    "\n",
    "        history_aware_retriever = create_history_aware_retriever(groq_model, st.session_state.retreiver, contextualize_q_prompt)\n",
    "\n",
    "        system_prompt = (\n",
    "            \"You are an assistant for question-answering tasks. \"\n",
    "            \"Use the following pieces of retrieved context to answer \"\n",
    "            \"the question. If you don't know the answer, say that you \"\n",
    "            \"don't know. Use three sentences maximum and keep the \"\n",
    "            \"answer concise.\"\n",
    "            \"\\n\\n\"\n",
    "            \"{context}\"\n",
    "        )   \n",
    "\n",
    "        prompt = ChatPromptTemplate.from_messages(\n",
    "            [\n",
    "                (\"system\", system_prompt),\n",
    "                MessagesPlaceholder(\"chat_history\"),\n",
    "                (\"human\", \"{input}\"),\n",
    "            ]\n",
    "        )\n",
    "\n",
    "        #Create a chain for passing a list of Documents to a model.\n",
    "\n",
    "        question_answer_chain = create_stuff_documents_chain(groq_model, prompt)\n",
    "\n",
    "        #Create retrieval chain that retrieves documents and then passes them on.\n",
    "\n",
    "\n",
    "        rag_chain = create_retrieval_chain(history_aware_retriever, question_answer_chain)\n",
    "\n",
    "        conversational_rag_chain = RunnableWithMessageHistory(\n",
    "            rag_chain,\n",
    "            get_session_history,\n",
    "            input_messages_key=\"input\",\n",
    "            history_messages_key=\"chat_history\",\n",
    "            output_messages_key=\"answer\",\n",
    "        )\n",
    "        \n",
    "        response = conversational_rag_chain.invoke(\n",
    "            {\"input\": user_input},\n",
    "            config={\n",
    "                \"configurable\": {\"session_id\":\"abc7\"}\n",
    "            },  # constructs a key \"abc123\" in `store`.\n",
    "        )\n",
    "\n",
    "        st.write(\"Assistant:\", response['answer'])\n"
   ]
  },
  {
   "cell_type": "code",
   "execution_count": 65,
   "metadata": {},
   "outputs": [
    {
     "name": "stdout",
     "output_type": "stream",
     "text": [
      "process <Popen: returncode: None args: ['streamlit', 'run', 'lama_conversational_rag...>\n"
     ]
    }
   ],
   "source": [
    "import subprocess\n",
    "\n",
    "process = subprocess.Popen([\"streamlit\",\"run\",\"lama_conversational_rag.py\"])\n",
    "print(\"process\",process)"
   ]
  },
  {
   "cell_type": "code",
   "execution_count": 64,
   "metadata": {},
   "outputs": [],
   "source": [
    "process.terminate()"
   ]
  },
  {
   "cell_type": "markdown",
   "metadata": {},
   "source": []
  },
  {
   "cell_type": "code",
   "execution_count": 16,
   "metadata": {},
   "outputs": [
    {
     "data": {
      "image/png": "[encoded data removed]",
      "text/plain": [
       "<IPython.core.display.Image object>"
      ]
     },
     "metadata": {},
     "output_type": "display_data"
    }
   ],
   "source": [
    "#Output Response\n",
    "from IPython.display import display, Image\n",
    "\n",
    "# Display an image with more control\n",
    "display(Image(filename='session_memory_chatbot.png'))\n"
   ]
  },
  {
   "cell_type": "code",
   "execution_count": null,
   "metadata": {},
   "outputs": [],
   "source": []
  },
  {
   "cell_type": "code",
   "execution_count": null,
   "metadata": {},
   "outputs": [],
   "source": []
  },
  {
   "cell_type": "code",
   "execution_count": null,
   "metadata": {},
   "outputs": [],
   "source": []
  },
  {
   "cell_type": "code",
   "execution_count": null,
   "metadata": {},
   "outputs": [],
   "source": []
  },
  {
   "cell_type": "code",
   "execution_count": null,
   "metadata": {},
   "outputs": [],
   "source": []
  },
  {
   "cell_type": "code",
   "execution_count": null,
   "metadata": {},
   "outputs": [],
   "source": []
  },
  {
   "cell_type": "code",
   "execution_count": null,
   "metadata": {},
   "outputs": [],
   "source": []
  },
  {
   "cell_type": "code",
   "execution_count": null,
   "metadata": {},
   "outputs": [],
   "source": []
  },
  {
   "cell_type": "code",
   "execution_count": null,
   "metadata": {},
   "outputs": [],
   "source": []
  }
 ],
 "metadata": {
  "kernelspec": {
   "display_name": ".venv",
   "language": "python",
   "name": "python3"
  },
  "language_info": {
   "codemirror_mode": {
    "name": "ipython",
    "version": 3
   },
   "file_extension": ".py",
   "mimetype": "text/x-python",
   "name": "python",
   "nbconvert_exporter": "python",
   "pygments_lexer": "ipython3",
   "version": "3.11.4"
  }
 },
 "nbformat": 4,
 "nbformat_minor": 2
}
